{
 "cells": [
  {
   "cell_type": "code",
   "execution_count": 1,
   "metadata": {},
   "outputs": [],
   "source": [
    "import numpy as np\n",
    "import pandas as pd\n",
    "import seaborn as sns\n",
    "import matplotlib.pyplot as plt\n",
    "from sklearn.preprocessing import OneHotEncoder\n",
    "from sklearn.model_selection import train_test_split\n",
    "from sklearn.linear_model import LinearRegression\n",
    "from sklearn.metrics import r2_score"
   ]
  },
  {
   "cell_type": "code",
   "execution_count": 459,
   "metadata": {},
   "outputs": [],
   "source": [
    "df = pd.read_excel(r\"C://Users//ABRAHAM//Desktop//startup_funding.xlsx\")"
   ]
  },
  {
   "cell_type": "code",
   "execution_count": 460,
   "metadata": {},
   "outputs": [
    {
     "data": {
      "text/html": [
       "<div>\n",
       "<style scoped>\n",
       "    .dataframe tbody tr th:only-of-type {\n",
       "        vertical-align: middle;\n",
       "    }\n",
       "\n",
       "    .dataframe tbody tr th {\n",
       "        vertical-align: top;\n",
       "    }\n",
       "\n",
       "    .dataframe thead th {\n",
       "        text-align: right;\n",
       "    }\n",
       "</style>\n",
       "<table border=\"1\" class=\"dataframe\">\n",
       "  <thead>\n",
       "    <tr style=\"text-align: right;\">\n",
       "      <th></th>\n",
       "      <th>Startup Name</th>\n",
       "      <th>Industry Vertical</th>\n",
       "      <th>City  Location</th>\n",
       "      <th>Investors Name</th>\n",
       "      <th>InvestmentnType</th>\n",
       "      <th>Amount in USD</th>\n",
       "    </tr>\n",
       "  </thead>\n",
       "  <tbody>\n",
       "    <tr>\n",
       "      <th>0</th>\n",
       "      <td>Dunzo</td>\n",
       "      <td>Technology</td>\n",
       "      <td>Bangalore</td>\n",
       "      <td>Google</td>\n",
       "      <td>Private Equity</td>\n",
       "      <td>12300000</td>\n",
       "    </tr>\n",
       "    <tr>\n",
       "      <th>1</th>\n",
       "      <td>Tata Housing</td>\n",
       "      <td>Real Estate</td>\n",
       "      <td>Mumbai</td>\n",
       "      <td>Hines</td>\n",
       "      <td>Private Equity</td>\n",
       "      <td>23000000</td>\n",
       "    </tr>\n",
       "    <tr>\n",
       "      <th>2</th>\n",
       "      <td>HandyTrain</td>\n",
       "      <td>Technology</td>\n",
       "      <td>Delhi NCR</td>\n",
       "      <td>NB Ventures</td>\n",
       "      <td>Private Equity</td>\n",
       "      <td>1000000</td>\n",
       "    </tr>\n",
       "    <tr>\n",
       "      <th>3</th>\n",
       "      <td>Mobycy</td>\n",
       "      <td>Technology</td>\n",
       "      <td>Delhi NCR</td>\n",
       "      <td>Undisclosed Investors</td>\n",
       "      <td>Seed Funding</td>\n",
       "      <td>500000</td>\n",
       "    </tr>\n",
       "    <tr>\n",
       "      <th>4</th>\n",
       "      <td>Greenlight Planet</td>\n",
       "      <td>Technology</td>\n",
       "      <td>Mumbai</td>\n",
       "      <td>Apis Partner, Eight Roads Ventures, Bamboo Cap...</td>\n",
       "      <td>Private Equity</td>\n",
       "      <td>60000000</td>\n",
       "    </tr>\n",
       "  </tbody>\n",
       "</table>\n",
       "</div>"
      ],
      "text/plain": [
       "        Startup Name Industry Vertical City  Location  \\\n",
       "0              Dunzo        Technology      Bangalore   \n",
       "1       Tata Housing       Real Estate         Mumbai   \n",
       "2         HandyTrain        Technology      Delhi NCR   \n",
       "3             Mobycy        Technology      Delhi NCR   \n",
       "4  Greenlight Planet        Technology         Mumbai   \n",
       "\n",
       "                                      Investors Name InvestmentnType  \\\n",
       "0                                             Google  Private Equity   \n",
       "1                                              Hines  Private Equity   \n",
       "2                                        NB Ventures  Private Equity   \n",
       "3                              Undisclosed Investors    Seed Funding   \n",
       "4  Apis Partner, Eight Roads Ventures, Bamboo Cap...  Private Equity   \n",
       "\n",
       "   Amount in USD  \n",
       "0       12300000  \n",
       "1       23000000  \n",
       "2        1000000  \n",
       "3         500000  \n",
       "4       60000000  "
      ]
     },
     "execution_count": 460,
     "metadata": {},
     "output_type": "execute_result"
    }
   ],
   "source": [
    "df.head()"
   ]
  },
  {
   "cell_type": "code",
   "execution_count": 461,
   "metadata": {},
   "outputs": [
    {
     "data": {
      "text/html": [
       "<div>\n",
       "<style scoped>\n",
       "    .dataframe tbody tr th:only-of-type {\n",
       "        vertical-align: middle;\n",
       "    }\n",
       "\n",
       "    .dataframe tbody tr th {\n",
       "        vertical-align: top;\n",
       "    }\n",
       "\n",
       "    .dataframe thead th {\n",
       "        text-align: right;\n",
       "    }\n",
       "</style>\n",
       "<table border=\"1\" class=\"dataframe\">\n",
       "  <thead>\n",
       "    <tr style=\"text-align: right;\">\n",
       "      <th></th>\n",
       "      <th>Startup Name</th>\n",
       "      <th>Industry Vertical</th>\n",
       "      <th>City  Location</th>\n",
       "      <th>Investors Name</th>\n",
       "      <th>InvestmentnType</th>\n",
       "      <th>Amount in USD</th>\n",
       "    </tr>\n",
       "  </thead>\n",
       "  <tbody>\n",
       "    <tr>\n",
       "      <th>0</th>\n",
       "      <td>Dunzo</td>\n",
       "      <td>Technology</td>\n",
       "      <td>Bangalore</td>\n",
       "      <td>Google</td>\n",
       "      <td>Private Equity</td>\n",
       "      <td>12300000</td>\n",
       "    </tr>\n",
       "    <tr>\n",
       "      <th>1</th>\n",
       "      <td>Tata Housing</td>\n",
       "      <td>Real Estate</td>\n",
       "      <td>Mumbai</td>\n",
       "      <td>Hines</td>\n",
       "      <td>Private Equity</td>\n",
       "      <td>23000000</td>\n",
       "    </tr>\n",
       "    <tr>\n",
       "      <th>2</th>\n",
       "      <td>HandyTrain</td>\n",
       "      <td>Technology</td>\n",
       "      <td>Delhi NCR</td>\n",
       "      <td>NB Ventures</td>\n",
       "      <td>Private Equity</td>\n",
       "      <td>1000000</td>\n",
       "    </tr>\n",
       "    <tr>\n",
       "      <th>3</th>\n",
       "      <td>Mobycy</td>\n",
       "      <td>Technology</td>\n",
       "      <td>Delhi NCR</td>\n",
       "      <td>Undisclosed Investors</td>\n",
       "      <td>Seed Funding</td>\n",
       "      <td>500000</td>\n",
       "    </tr>\n",
       "    <tr>\n",
       "      <th>4</th>\n",
       "      <td>Greenlight Planet</td>\n",
       "      <td>Technology</td>\n",
       "      <td>Mumbai</td>\n",
       "      <td>Apis Partner, Eight Roads Ventures, Bamboo Cap...</td>\n",
       "      <td>Private Equity</td>\n",
       "      <td>60000000</td>\n",
       "    </tr>\n",
       "  </tbody>\n",
       "</table>\n",
       "</div>"
      ],
      "text/plain": [
       "        Startup Name Industry Vertical City  Location  \\\n",
       "0              Dunzo        Technology      Bangalore   \n",
       "1       Tata Housing       Real Estate         Mumbai   \n",
       "2         HandyTrain        Technology      Delhi NCR   \n",
       "3             Mobycy        Technology      Delhi NCR   \n",
       "4  Greenlight Planet        Technology         Mumbai   \n",
       "\n",
       "                                      Investors Name InvestmentnType  \\\n",
       "0                                             Google  Private Equity   \n",
       "1                                              Hines  Private Equity   \n",
       "2                                        NB Ventures  Private Equity   \n",
       "3                              Undisclosed Investors    Seed Funding   \n",
       "4  Apis Partner, Eight Roads Ventures, Bamboo Cap...  Private Equity   \n",
       "\n",
       "   Amount in USD  \n",
       "0       12300000  \n",
       "1       23000000  \n",
       "2        1000000  \n",
       "3         500000  \n",
       "4       60000000  "
      ]
     },
     "execution_count": 461,
     "metadata": {},
     "output_type": "execute_result"
    }
   ],
   "source": [
    "df.head()"
   ]
  },
  {
   "cell_type": "code",
   "execution_count": 462,
   "metadata": {},
   "outputs": [
    {
     "name": "stdout",
     "output_type": "stream",
     "text": [
      "<class 'pandas.core.frame.DataFrame'>\n",
      "RangeIndex: 1495 entries, 0 to 1494\n",
      "Data columns (total 6 columns):\n",
      " #   Column             Non-Null Count  Dtype \n",
      "---  ------             --------------  ----- \n",
      " 0   Startup Name       1495 non-null   object\n",
      " 1   Industry Vertical  1495 non-null   object\n",
      " 2   City  Location     1495 non-null   object\n",
      " 3   Investors Name     1490 non-null   object\n",
      " 4   InvestmentnType    1495 non-null   object\n",
      " 5   Amount in USD      1495 non-null   int64 \n",
      "dtypes: int64(1), object(5)\n",
      "memory usage: 70.2+ KB\n"
     ]
    }
   ],
   "source": [
    "df.info()"
   ]
  },
  {
   "cell_type": "code",
   "execution_count": 463,
   "metadata": {},
   "outputs": [
    {
     "data": {
      "text/plain": [
       "Startup Name         1281\n",
       "Industry Vertical     488\n",
       "City  Location          7\n",
       "Investors Name       1214\n",
       "InvestmentnType         3\n",
       "Amount in USD         334\n",
       "dtype: int64"
      ]
     },
     "execution_count": 463,
     "metadata": {},
     "output_type": "execute_result"
    }
   ],
   "source": [
    "df.apply(lambda x:len(x.unique()))"
   ]
  },
  {
   "cell_type": "code",
   "execution_count": 464,
   "metadata": {},
   "outputs": [
    {
     "data": {
      "text/plain": [
       "Startup Name         0\n",
       "Industry Vertical    0\n",
       "City  Location       0\n",
       "Investors Name       5\n",
       "InvestmentnType      0\n",
       "Amount in USD        0\n",
       "dtype: int64"
      ]
     },
     "execution_count": 464,
     "metadata": {},
     "output_type": "execute_result"
    }
   ],
   "source": [
    "df.isnull().sum()"
   ]
  },
  {
   "cell_type": "code",
   "execution_count": 465,
   "metadata": {},
   "outputs": [
    {
     "data": {
      "text/plain": [
       "(1495, 6)"
      ]
     },
     "execution_count": 465,
     "metadata": {},
     "output_type": "execute_result"
    }
   ],
   "source": [
    "df.shape"
   ]
  },
  {
   "cell_type": "code",
   "execution_count": null,
   "metadata": {},
   "outputs": [],
   "source": []
  },
  {
   "cell_type": "code",
   "execution_count": 466,
   "metadata": {},
   "outputs": [
    {
     "data": {
      "text/plain": [
       "(1495, 6)"
      ]
     },
     "execution_count": 466,
     "metadata": {},
     "output_type": "execute_result"
    }
   ],
   "source": [
    "df.shape"
   ]
  },
  {
   "cell_type": "code",
   "execution_count": 467,
   "metadata": {},
   "outputs": [
    {
     "data": {
      "text/plain": [
       "Startup Name         0\n",
       "Industry Vertical    0\n",
       "City  Location       0\n",
       "Investors Name       5\n",
       "InvestmentnType      0\n",
       "Amount in USD        0\n",
       "dtype: int64"
      ]
     },
     "execution_count": 467,
     "metadata": {},
     "output_type": "execute_result"
    }
   ],
   "source": [
    "df.isnull().sum()"
   ]
  },
  {
   "cell_type": "code",
   "execution_count": 468,
   "metadata": {},
   "outputs": [
    {
     "data": {
      "text/plain": [
       "Startup Name         1281\n",
       "Industry Vertical     488\n",
       "City  Location          7\n",
       "Investors Name       1213\n",
       "InvestmentnType         3\n",
       "Amount in USD         334\n",
       "dtype: int64"
      ]
     },
     "execution_count": 468,
     "metadata": {},
     "output_type": "execute_result"
    }
   ],
   "source": [
    "df.nunique()"
   ]
  },
  {
   "cell_type": "code",
   "execution_count": 469,
   "metadata": {},
   "outputs": [
    {
     "data": {
      "text/plain": [
       "Delhi NCR    476\n",
       "Bangalore    468\n",
       "Mumbai       336\n",
       "Chennai       66\n",
       "Hyderabad     62\n",
       "Pune          61\n",
       "Ahmedabad     26\n",
       "Name: City  Location, dtype: int64"
      ]
     },
     "execution_count": 469,
     "metadata": {},
     "output_type": "execute_result"
    }
   ],
   "source": [
    "## pandas count distinct values in column\n",
    "df[\"City  Location\"].value_counts()"
   ]
  },
  {
   "cell_type": "code",
   "execution_count": 470,
   "metadata": {},
   "outputs": [
    {
     "data": {
      "text/plain": [
       "Swiggy               7\n",
       "Ola Cabs             6\n",
       "Flipkart             5\n",
       "Medinfi              5\n",
       "UrbanClap            5\n",
       "                    ..\n",
       "Vegetall             1\n",
       "Vyome Biosciences    1\n",
       "Ecolibriumenergy     1\n",
       "DriversCart          1\n",
       "SchoolGuru           1\n",
       "Name: Startup Name, Length: 1281, dtype: int64"
      ]
     },
     "execution_count": 470,
     "metadata": {},
     "output_type": "execute_result"
    }
   ],
   "source": [
    "df[\"Startup Name\"].value_counts()"
   ]
  },
  {
   "cell_type": "code",
   "execution_count": 471,
   "metadata": {},
   "outputs": [
    {
     "data": {
      "text/plain": [
       "Consumer Internet                      490\n",
       "Technology                             251\n",
       "eCommerce                              123\n",
       "ECommerce                               36\n",
       "Logistics                               20\n",
       "                                      ... \n",
       "Online Car Rental Affiliates             1\n",
       "FinTech Startup Incubation platform      1\n",
       "Asset Financing platform                 1\n",
       "Branded Food products online sales       1\n",
       "Logistics Services Provider              1\n",
       "Name: Industry Vertical, Length: 488, dtype: int64"
      ]
     },
     "execution_count": 471,
     "metadata": {},
     "output_type": "execute_result"
    }
   ],
   "source": [
    "df[\"Industry Vertical\"].value_counts()"
   ]
  },
  {
   "cell_type": "code",
   "execution_count": 472,
   "metadata": {},
   "outputs": [
    {
     "data": {
      "text/plain": [
       "Undisclosed Investors                                                            24\n",
       "Undisclosed investors                                                            23\n",
       "Kalaari Capital                                                                  12\n",
       "Sequoia Capital                                                                  11\n",
       "undisclosed investors                                                            11\n",
       "                                                                                 ..\n",
       "Blume Ventures, Indian Angel Network, Kunal Shah, Sandeep Tandon                  1\n",
       "Hampton Capital                                                                   1\n",
       "Falcon Edge Capital, Capital Advisers                                             1\n",
       "Undisclosed private investors                                                     1\n",
       "Rebright Partners, Sol Primero, Sudhir Anandarao, Ankur Warikoo, Ankur Singla     1\n",
       "Name: Investors Name, Length: 1213, dtype: int64"
      ]
     },
     "execution_count": 472,
     "metadata": {},
     "output_type": "execute_result"
    }
   ],
   "source": [
    "df[\"Investors Name\"].value_counts()"
   ]
  },
  {
   "cell_type": "code",
   "execution_count": 473,
   "metadata": {},
   "outputs": [
    {
     "data": {
      "text/plain": [
       "Private Equity    838\n",
       "Seed Funding      647\n",
       "Debt Funding       10\n",
       "Name: InvestmentnType, dtype: int64"
      ]
     },
     "execution_count": 473,
     "metadata": {},
     "output_type": "execute_result"
    }
   ],
   "source": [
    "df[\"InvestmentnType\"].value_counts()"
   ]
  },
  {
   "cell_type": "code",
   "execution_count": 474,
   "metadata": {},
   "outputs": [
    {
     "data": {
      "text/plain": [
       "Ahmedabad     26\n",
       "Pune          61\n",
       "Hyderabad     62\n",
       "Chennai       66\n",
       "Mumbai       336\n",
       "Bangalore    468\n",
       "Delhi NCR    476\n",
       "Name: City  Location, dtype: int64"
      ]
     },
     "execution_count": 474,
     "metadata": {},
     "output_type": "execute_result"
    }
   ],
   "source": [
    "# pandas count unique values ascending:\n",
    "df[\"City  Location\"].value_counts(ascending=True)"
   ]
  },
  {
   "cell_type": "code",
   "execution_count": 475,
   "metadata": {},
   "outputs": [
    {
     "data": {
      "text/plain": [
       "Delhi NCR    476\n",
       "Bangalore    468\n",
       "Mumbai       336\n",
       "Chennai       66\n",
       "Hyderabad     62\n",
       "Pune          61\n",
       "Ahmedabad     26\n",
       "Name: City  Location, dtype: int64"
      ]
     },
     "execution_count": 475,
     "metadata": {},
     "output_type": "execute_result"
    }
   ],
   "source": [
    "# pandas count unique values descending:\n",
    "df[\"City  Location\"].value_counts(ascending=False)"
   ]
  },
  {
   "cell_type": "code",
   "execution_count": 476,
   "metadata": {},
   "outputs": [
    {
     "data": {
      "text/plain": [
       "Index(['Startup Name', 'Industry Vertical', 'City  Location', 'Investors Name',\n",
       "       'InvestmentnType', 'Amount in USD'],\n",
       "      dtype='object')"
      ]
     },
     "execution_count": 476,
     "metadata": {},
     "output_type": "execute_result"
    }
   ],
   "source": [
    "df.columns"
   ]
  },
  {
   "cell_type": "code",
   "execution_count": 477,
   "metadata": {},
   "outputs": [
    {
     "data": {
      "text/plain": [
       "Delhi NCR    476\n",
       "Bangalore    468\n",
       "Mumbai       336\n",
       "Chennai       66\n",
       "Hyderabad     62\n",
       "Pune          61\n",
       "Ahmedabad     26\n",
       "Name: City  Location, dtype: int64"
      ]
     },
     "execution_count": 477,
     "metadata": {},
     "output_type": "execute_result"
    }
   ],
   "source": [
    "#Show \"City Location\" top names\n",
    "\n",
    "df[\"City  Location\"].value_counts()\n"
   ]
  },
  {
   "cell_type": "code",
   "execution_count": 478,
   "metadata": {},
   "outputs": [
    {
     "data": {
      "text/plain": [
       "array(['Bangalore', 'Mumbai', 'Delhi NCR', 'Chennai', 'Hyderabad', 'Pune',\n",
       "       'Ahmedabad'], dtype=object)"
      ]
     },
     "execution_count": 478,
     "metadata": {},
     "output_type": "execute_result"
    }
   ],
   "source": [
    "#Show \"City Location\" Unique names\n",
    "df[\"City  Location\"].unique()"
   ]
  },
  {
   "cell_type": "code",
   "execution_count": 479,
   "metadata": {},
   "outputs": [
    {
     "data": {
      "text/plain": [
       "7"
      ]
     },
     "execution_count": 479,
     "metadata": {},
     "output_type": "execute_result"
    }
   ],
   "source": [
    "#Show total \"City Location\" unique names\n",
    "df[\"City  Location\"].nunique()"
   ]
  },
  {
   "cell_type": "code",
   "execution_count": 480,
   "metadata": {},
   "outputs": [
    {
     "data": {
      "text/plain": [
       "array(['Technology', 'Real Estate', 'E-Commerce', 'Healthcare',\n",
       "       'Ecommerce', 'Finance', 'eCommerce', 'ECommerce', 'Inspiration',\n",
       "       'Lifestyle', 'Consumer Internet', 'Logistics', 'Food & Beverage',\n",
       "       'eCommece', 'Consumer Portal', 'Education', 'Food & Beverages',\n",
       "       'ecommerce', 'Others', 'healthcare', 'FMCG', 'Reality',\n",
       "       'Transportation & Logistics Platform',\n",
       "       'Enterprise Marketing Automation platform', 'Digital Healthcare',\n",
       "       'Last Minute Hotel Booking App',\n",
       "       'Online Food ordering & Delivery platform',\n",
       "       'App based Bus Pooling Services',\n",
       "       'Car Maintenance & Management mobile app',\n",
       "       'Online Wedding Marketplace', 'Custom Made furniture e-tailer',\n",
       "       'QSR Chain', 'Smart Safety Wearable Devices',\n",
       "       'Cab Sharing service Mobile app',\n",
       "       'Home Cooked Food Order & Delivery platform',\n",
       "       'Online School for Analytics learning',\n",
       "       'Picture creation & Social mobile app',\n",
       "       'Nonbanking finance company', 'Online Freight Services Aggregator',\n",
       "       'Online Branded Furniture etailer', 'Digital Analytics Platform',\n",
       "       'Internet Network Infrastructure Services',\n",
       "       'Supply Chain & Logistics Solutions',\n",
       "       'Mobile Point of Sale solutions',\n",
       "       'Peer-to-Peer Money Transfer & Recharge App',\n",
       "       'Online RTI application services',\n",
       "       'Wedding Venues & Vendors Marketplace',\n",
       "       'Modular Furnishings Marketplace',\n",
       "       'Cab search Comparison & Booking platform',\n",
       "       'Performance Optimization Platform for athletes',\n",
       "       'Home services marketplace',\n",
       "       'End to End reverse logistics Solution platform',\n",
       "       'Virtual Health consultation app', 'Logistics Services Provider',\n",
       "       'Data Science & UX design Learning platform',\n",
       "       'Electric Bike Manufacturers',\n",
       "       'Logistics Service Provider Marketplace',\n",
       "       'Hyperlocal Grocery Delivery Service', 'Sports Education Platform',\n",
       "       'Mobile accessories online store',\n",
       "       'Artificial Intelligence platform',\n",
       "       'Medical Consultation & Doctor appointment booking platform',\n",
       "       'Mobile Fitness App', 'Mobile Game development & Design platform',\n",
       "       'B2B eCommerce Marketplace', 'B2B Merchandize platform',\n",
       "       'Photographer Online search & booking platform',\n",
       "       'Grocery Delivery platform',\n",
       "       'Mobile Car Servicing appointment app', 'New Curation Mobile App',\n",
       "       'Mobile Wallet', 'Online Food Ordering & Delivery platform',\n",
       "       'Bus Aggregation and rental mobile app',\n",
       "       'Alternate Mobile Monetization platform',\n",
       "       'Quick Service Restaurant & Online Delivery',\n",
       "       'Online Loans Marketplace', 'Budget Hotels Aggregator',\n",
       "       'Digital Intelligent learning platform',\n",
       "       'Online Counselling and psychological support platform',\n",
       "       'Domestic Help Aggregation platform',\n",
       "       'Home Stay & room rentals platform', 'Online Grocery platform',\n",
       "       'Online content platform for women',\n",
       "       'Online Vehicle Spare Parts etailer', 'Event Ticketing platform',\n",
       "       'Premium dining Lounges & restaurants',\n",
       "       'Mobile Growth Hacking\\\\\\\\nPlatform', 'Skill Training Startup',\n",
       "       'Beauty and Wellness Marketplace',\n",
       "       'On-demand Maids Service Provider',\n",
       "       'eCommerce Product Search Engine', 'Ready to cook packaged Foods',\n",
       "       'Branded Food products online sales',\n",
       "       'Auto Insurance Online platform', 'Cricket Management Mobile Game',\n",
       "       'Ecommerce Discount & Cashback coupons platform',\n",
       "       'Virtual Reality Headset creator', 'mobile-only tasks marketplace',\n",
       "       'Women Ethnic Wear Online Marketplace',\n",
       "       'Numerical Computing & Data Science Platform',\n",
       "       'Designer fashion Jewellery Marketplace',\n",
       "       'Online Products Discovery Platform',\n",
       "       'Kids Tool kit for Innovation platform',\n",
       "       'Car Aggregator & Retail Mobile App',\n",
       "       'conversational commerce mobile app', 'Viral Content web Platform',\n",
       "       'Mobile Services Marketplace', 'Smartwatch Maker',\n",
       "       'Online Jewellery etailer', 'Health-Tech platform',\n",
       "       'Nightlife Discovery Mobile App', 'Online Real Estate Marketplace',\n",
       "       'Indian Ethnic Crafts Etailer',\n",
       "       'Social platform for traders and investors',\n",
       "       'Online Furniture, Home Appliances Rental Platform',\n",
       "       'Healthcare Services Discovery platform',\n",
       "       'Health and Beauty Services Marketplace',\n",
       "       'Online and TV Shopping Marketplace',\n",
       "       'Mobile App based Loan disbursement platform',\n",
       "       'On Demand Laundry Services App', 'Education Content Provider',\n",
       "       'Fitness Tracking Management Solutions',\n",
       "       'Hyper-local Grocery Delivery platform',\n",
       "       'Hyperlocal healthcare product Delivery Service provider',\n",
       "       'Self Driven Rental Car Platform', 'Two-Wheeler Taxi Service',\n",
       "       'character merchandize sales platform',\n",
       "       'Ecommerce Delivery locker services',\n",
       "       'Product discovery & recommendation platform',\n",
       "       'Mobile Payments App', 'Beauty & Wellness Products e-tailer',\n",
       "       'Online Consumer Lending platform',\n",
       "       'Premium Apparel shopping portal',\n",
       "       'Exclusive Platform for Doctors & Healthcare professionals',\n",
       "       'Job Board', 'Sports Management & Physical Education Business',\n",
       "       'QSR & Online delivery portal', 'Online Homeopathy Clinic',\n",
       "       'E-Learning Service Provider',\n",
       "       'Delivery & Logistics Service provider',\n",
       "       'Home Cooked Food marketplace & Delivery',\n",
       "       'Gesture based Mobile Development',\n",
       "       'Rental Accommodation Search platform', 'Logistics Tech Platform',\n",
       "       'Developer Portfolio Showcase platform',\n",
       "       'on-demand healthcare marketplace',\n",
       "       'Advertising & Marketing Community Networking platform',\n",
       "       'Food Ordering & Delivery App', 'Ride Sharing platform',\n",
       "       'Cloud Based Collaboration platform',\n",
       "       'Mobile Only Shopping Assistant', 'Mobile Messaging Assistant App',\n",
       "       'Personalized Wish List creator app',\n",
       "       'Raw Meat & Ready to eat food etailer',\n",
       "       'Structural & Civil Engg Service Automation',\n",
       "       'Payments Solution platform',\n",
       "       'Travel Destination Discovery platform',\n",
       "       'Last Mile Delivery Service', 'Healthcare IT Solutions & services',\n",
       "       'Micro-Brewery', 'Home Made Food Marketplace',\n",
       "       'residential rental management platform',\n",
       "       'Personal Diagnostic Mobile App',\n",
       "       'Online food ordering & Delivery service',\n",
       "       'Hotel Aggregator & booking platform', 'Online Logistics Platform',\n",
       "       'Online Student & Campus Social Networking platform',\n",
       "       'Professionals & Project Search Marketplace', 'Online Pharmacy',\n",
       "       'Location based Nightlife recommendation Platform',\n",
       "       'Professional Health Services Platform',\n",
       "       'Hyperlocal Logistics Service', 'Asset Financing platform',\n",
       "       'Virtual Reality activity based learning platform',\n",
       "       'Public Commute helper App', 'Ridesharing Mobile app',\n",
       "       'Food Discovery & Delivery Mobile app',\n",
       "       'Competitive exam learning platform',\n",
       "       'Document Digitization platform',\n",
       "       'proximity marketing & Mobile Advertising platform',\n",
       "       'Autorickshaw Aggregator & Booking platform',\n",
       "       'FinTech Startup Incubation platform',\n",
       "       'Personalized Styling platform', 'Luxury goods Shopping Platform',\n",
       "       'Online Lingerie Marketplace', 'Cloud software solutions',\n",
       "       'Job Search Platform', 'Small Business Financing (NBFC)',\n",
       "       'Online Movie Review Platform',\n",
       "       'ECommerce Brands\\\\\\\\xe2\\\\\\\\x80\\\\\\\\x99 Full Service Agency',\n",
       "       'Cloud-based Hotel Booking Platform',\n",
       "       'Community Driven News/Views Platform',\n",
       "       'Study Material Marketplace',\n",
       "       'Restaurant Ratings & Reviews platform',\n",
       "       'Dairy Based Product Manufacturer',\n",
       "       'Government Test Preparation platform',\n",
       "       'Multilingual Test Preparation Platform',\n",
       "       'Industrial Tools Marketplace',\n",
       "       'Non Profit Organization to alleviate poverty',\n",
       "       'Gym & Fitness Studios Subscription platform',\n",
       "       'pre-used apparel shopping mobile app',\n",
       "       'Used Vehicles Marketplace', 'Mobile App testing platform',\n",
       "       'Hyperlocal Delivery Services', 'Cab rental Mobile app',\n",
       "       'Online Insurance Distribution Platform',\n",
       "       'Mobile Marketing Automation Platform',\n",
       "       'Chain of Tea Caf\\\\\\\\xc3\\\\\\\\xa9\\\\\\\\xe2\\\\\\\\x80\\\\\\\\x99s',\n",
       "       'Branded Budget Hotel Marketplace', 'Food Subscription platform',\n",
       "       'Wedding Planning Platform', 'B2B Mobile Auction Marketplace',\n",
       "       'Private label Fashion eTailer', 'Online Food ordering & delivery',\n",
       "       'Real Estate Broker Platform App',\n",
       "       'Online Health & Wellness platform', 'Internet of Things platform',\n",
       "       'Diagnostic Labs aggregator platform',\n",
       "       'Home Medical Care Services', 'Real-Time stock data platform',\n",
       "       'coupons and cashback aggregator app', 'Financial Services Portal',\n",
       "       'virtual reality, 3d simulation and stereoscopic products',\n",
       "       'Online Interior Designing platform',\n",
       "       'End-to-end Logistics platform', 'Private Label Apparel sales',\n",
       "       'Digital & Physical Publishing platform', 'Food Delivery Platform',\n",
       "       'Data Driven Publishing platform',\n",
       "       'Employee OnBoarding & Orientation platform',\n",
       "       'Solar Power Solutions company', 'Online Meat Ordering platform',\n",
       "       'Cab Booking app platform', 'E-Commerce & M-Commerce platform',\n",
       "       'Mobile Advertising platform', 'Hyperlocal Grocery Delivery',\n",
       "       'Fashion Discovery platform', 'Budget Accommodation Platform',\n",
       "       'Digital Signal processing platform', 'Ecommerce Marketplace',\n",
       "       'Restaurant Discount app', 'ECommerce Logistics provider',\n",
       "       'Budget Hotel accommodation brand',\n",
       "       'User Engagment & Analytics platform',\n",
       "       'On-Demand Delivery Logistics',\n",
       "       'fund raising platform for startups', 'Online budget hotel chain',\n",
       "       'Hyperlocal Handyman services', 'hotel booking app',\n",
       "       'Tech Platform for property brokers',\n",
       "       'App security testing platform', 'Doctor Appointment booking app',\n",
       "       'Crowd funding platform', 'Mobile based PoS solution',\n",
       "       'Fast food Chain Franchisee', 'Loyalty Programs & Reward Points',\n",
       "       'Taxi Rental platform', 'mobile social network',\n",
       "       'Hyper-Local Ecommerce', 'Online printing marketplace',\n",
       "       'mobile payment software platform',\n",
       "       'Automated Storage & Warehousing Solution',\n",
       "       'Home Design & D\\\\\\\\xc3\\\\\\\\xa9cor solutions',\n",
       "       'Subscription based Online Grocery platform',\n",
       "       'engineering services company',\n",
       "       'Credit Card Fraud protection solutions',\n",
       "       'Online & mobile Grocery store', 'Career Community for Women',\n",
       "       'Mutual Fund Investing platform',\n",
       "       'Ecommerce Marketing Software Platform',\n",
       "       'Financial Inclusion platform', 'Mobile Commerce for Farmers',\n",
       "       'Picture based Social App', 'Logistics service platform',\n",
       "       'Exam Preparation Platform', 'Waste Management Solutions',\n",
       "       'on-demand delivery service', 'Data Analytics Platform',\n",
       "       'Deep Learning Cloud Algorithms', 'Corporate Wellness App',\n",
       "       'Hyperlocal Maintenance, Repair & Cleaning services',\n",
       "       'Online Furniture Marketplace',\n",
       "       'Online Diagnostic Tests Marketplace',\n",
       "       'Online marketplace for Photographers', 'Visual Blogging platform',\n",
       "       'Food Customer analytics platform',\n",
       "       'Professional Service Appointment booking service',\n",
       "       'On-Demand App based Professional service provider',\n",
       "       'Restaurant Reservation Platform', 'Cross-channel CRM platform',\n",
       "       'Professional Custom creators Marketplace',\n",
       "       'on-Demand Washing & Dry-Cleaning', 'On-Demand Beauty Service',\n",
       "       'Online Food Community Platform',\n",
       "       'Beauty & Lifestyle Mobile Marketplace', 'QSR Restaurant Chain',\n",
       "       'Online Coffee Delivery platform',\n",
       "       'Language Localization Cloud platform', 'CRM / Analytics platform',\n",
       "       'Hyperlocal Electronics repair Service',\n",
       "       'IT infrastructure & Data Center services',\n",
       "       'Online Financial Services', 'Used Car Marketplace',\n",
       "       'Custom Merchandize platform', 'Custom Furniture Marketplace',\n",
       "       'Ethnic Beverages manufacturer', 'Budget Accommodation aggregator',\n",
       "       'Real Estate Rating & Analysis', 'Music Streaming App',\n",
       "       'Online Food-Tech Platform', 'Celebrity Fashion Brand',\n",
       "       'Online Finance lending platform', 'Healthcare Mobile App',\n",
       "       'Self-driven vehicle rental', 'News Aggregator mobile app',\n",
       "       'Online Jewellery Store',\n",
       "       'Warranty Programs Service Administration', 'Pre-School Chain',\n",
       "       'Premium Loyalty Rewards Point Management',\n",
       "       'Contact Center Software Platform',\n",
       "       'Casual Dining restaurant Chain', 'Online comparison engine',\n",
       "       'Physical Storage warehouses', 'Tech Recruitment platform',\n",
       "       'Bike Rental Platform', 'Tech enabled logistics platform',\n",
       "       'Budget Hotel Accommodation',\n",
       "       'Restaurant customer engagement platform',\n",
       "       'Hyper local logistics platform', 'Crowd Funding Platform',\n",
       "       'F&B sector Mobile Payment platform',\n",
       "       'Industrial Supplies B2B ecommerce', 'Payment Solutions platform',\n",
       "       'Organic Food ecommerce', 'Big Data & Analytics platform',\n",
       "       'Fine Dining Restaurant Chain', 'Luxury Rental Homes',\n",
       "       'Online Grocers', 'Clinical Genomics Provider',\n",
       "       'Travel information portal', 'Fitness Marketplace',\n",
       "       'Online & Mobile classified listings',\n",
       "       'Real Estate Broker network App', 'Used Bikes Marketplace',\n",
       "       'Spa & Salon Management Software',\n",
       "       'Online home d\\\\\\\\xc3\\\\\\\\xa9cor marketplace', 'Online Marketplace',\n",
       "       'Hyperlocal food & grocery store', 'Hyperlocal Handyman Services',\n",
       "       'Medical Tech Instruments', 'Hyperlocal Deals Marketplace',\n",
       "       'Innovative Water Solutions', 'Online Jewelry Store',\n",
       "       'Business intelligence & Analytics', 'Used Vehicle Marketplace',\n",
       "       'Educational Board Games', 'Chinese food delivery',\n",
       "       'Hyperlocal Grocery App', 'Hasbro Toy Manufacturer', 'Travel Tech',\n",
       "       'Healthy Food Manufacturer', 'Online Learning Platform',\n",
       "       'Healthy Food Online Community', 'Online Fashion Video Portal',\n",
       "       'Probiotic Technology Products Manufacturer',\n",
       "       'Architectural Design & Consulting',\n",
       "       'Preventive Healthcare Services',\n",
       "       'Real Estate Intelligence Platform',\n",
       "       'Online Car Rental Affiliates', 'Online City & Lifestyle Guide',\n",
       "       'Bespoke Merchandize Marketplace', 'Logistics Solution Provider',\n",
       "       'Video Intelligence Platform', 'Hyperlocal Shopping App',\n",
       "       'eCommerce platform', 'Renewable energy solutions',\n",
       "       'Healthcare\\\\\\\\nService provider', 'Auto Rickshaw Based Services',\n",
       "       'Off-grid Solar Power', 'Private Label lingerie Ecommerce',\n",
       "       'Online Food Ordering', 'Mobile Commerce Platform',\n",
       "       'Digital Marketing Services', 'Fashion Ecommerce store',\n",
       "       'Mobile Compression Software', 'Peer to Peer Lending platform',\n",
       "       'Global Healthcare products', 'Home Furnishing Solutions',\n",
       "       'Intra-City Logistics service',\n",
       "       'Online Coupon & comparison platform', 'Dental Clinic chain',\n",
       "       '3D Printer Manufacturer', 'IT / Customer Engagement Consulting',\n",
       "       'Financial Services Platform', 'Social Network for Artists',\n",
       "       'Startup funding platform',\n",
       "       'Data Driven recruitment recommendation',\n",
       "       'Video Advertisement Platform',\n",
       "       'Mobile Chat based concierge service',\n",
       "       'Online Budget Hotel Booking Service',\n",
       "       'Online education marketplace', 'Logistics Tech',\n",
       "       'App Analytics platform', 'Micro Finance Platform',\n",
       "       'Freight logistics platform', 'Credit Management Services',\n",
       "       'Hyperlocal services marketplace',\n",
       "       'Marketing / Advertising Automation platform',\n",
       "       'Flat rental Mobile App', 'Wealth Management Platform',\n",
       "       'Online Food Delivery', 'Fund Raising Platform',\n",
       "       'Workforce Management Software', 'Online Art Marketplace',\n",
       "       'Affordable Education', 'Career Development',\n",
       "       'Real Estate Advisory', 'Banking Analytics Platform',\n",
       "       'Ecommerce Logistics', 'Online Education Platform',\n",
       "       'Online Product Comparison', 'Online Security Platform',\n",
       "       'Online Medical Diagnostic', 'Cloud Data Integration Platform',\n",
       "       'Mobile Laundry Cleaning Service', 'Lifestyle Ecommerce Portal',\n",
       "       'Online Fashion Aggregator', 'Online Job skills Showcase',\n",
       "       'Offline Tea Chain', 'Business Messaging App', 'Health Mobile App',\n",
       "       'Online Ed-Tech Platform', 'Hyperlocal Mobile Marketplace',\n",
       "       'Trucking Logistic Operations', 'B2C Messaging App',\n",
       "       'Customer Engagement Platform', 'Online Table Reservation',\n",
       "       'Parents focused Web Content', 'On-demand Service marketplace',\n",
       "       'On-Demand Business messaging', 'Online Home D\\\\\\\\xc3\\\\\\\\xa9cor',\n",
       "       'API Workflow platform', 'Affordable Hotel Booking Online',\n",
       "       'Logistics Intelligence', 'Last Mile Logistics',\n",
       "       'Self-driven Car rental', 'Electric Scooter Manufacturer',\n",
       "       'Web Content Publishing', 'Video Streaming', 'Price Comparison',\n",
       "       'Online Classifieds', 'Travel Entertainment',\n",
       "       'Digital / Mobile Wallet', 'Cab Aggregator', 'Device Repair Svcs',\n",
       "       'Premium Beverages', 'Online Furnishing\\\\\\\\neCommerce',\n",
       "       'Interactive How-To Guides', 'Restaurant Reviews', 'Online Grocer',\n",
       "       'Ed-Tech', 'Online Hotel Booking', 'Online Kitchen Furniture',\n",
       "       'Hyper-local Online Services', 'Hyper-Local Online/Mobile Grocery',\n",
       "       'Online Policy Aggregator',\n",
       "       'Hyperlocal Mobile Services Marketplace',\n",
       "       'OnDemand\\\\\\\\nMobile Handyman Services',\n",
       "       'Online Pharmacy & Drug DB', 'Online / Mobile Customer Support',\n",
       "       'Online Classifieds & Listings', 'Fashion ECommerce',\n",
       "       'Private Coaching Centers', 'Online Certification Courses',\n",
       "       'Ethnic Product eCommerce', 'usiness expense management',\n",
       "       'Auto Rickshaw based Logistics', 'Online Insurance Aggregator',\n",
       "       'Restaurant Management Platform', 'Food Logistics & Delivery',\n",
       "       'Grey collar Job Board', 'Robotic Program learning',\n",
       "       'Tele-Shopping / eCommerce', 'Used Gadgets Buy / Refurbishing',\n",
       "       'Startup Analytics platform', 'Financial Markets Software',\n",
       "       'Hiring Analytics platform', 'Online Travel Marketplace'],\n",
       "      dtype=object)"
      ]
     },
     "execution_count": 480,
     "metadata": {},
     "output_type": "execute_result"
    }
   ],
   "source": [
    "#Show total \"Industry Vertical\" unique names\n",
    "df[\"Industry Vertical\"].unique()"
   ]
  },
  {
   "cell_type": "code",
   "execution_count": 481,
   "metadata": {},
   "outputs": [
    {
     "data": {
      "text/plain": [
       "488"
      ]
     },
     "execution_count": 481,
     "metadata": {},
     "output_type": "execute_result"
    }
   ],
   "source": [
    "df[\"Industry Vertical\"].nunique()"
   ]
  },
  {
   "cell_type": "markdown",
   "metadata": {},
   "source": [
    "# Create duummies for \"InvestmentnType\" and save it as 'investment'"
   ]
  },
  {
   "cell_type": "code",
   "execution_count": 482,
   "metadata": {},
   "outputs": [],
   "source": [
    "investment = pd.get_dummies(df[\"InvestmentnType\"])"
   ]
  },
  {
   "cell_type": "code",
   "execution_count": 483,
   "metadata": {},
   "outputs": [
    {
     "data": {
      "text/html": [
       "<div>\n",
       "<style scoped>\n",
       "    .dataframe tbody tr th:only-of-type {\n",
       "        vertical-align: middle;\n",
       "    }\n",
       "\n",
       "    .dataframe tbody tr th {\n",
       "        vertical-align: top;\n",
       "    }\n",
       "\n",
       "    .dataframe thead th {\n",
       "        text-align: right;\n",
       "    }\n",
       "</style>\n",
       "<table border=\"1\" class=\"dataframe\">\n",
       "  <thead>\n",
       "    <tr style=\"text-align: right;\">\n",
       "      <th></th>\n",
       "      <th>Debt Funding</th>\n",
       "      <th>Private Equity</th>\n",
       "      <th>Seed Funding</th>\n",
       "    </tr>\n",
       "  </thead>\n",
       "  <tbody>\n",
       "    <tr>\n",
       "      <th>0</th>\n",
       "      <td>0</td>\n",
       "      <td>1</td>\n",
       "      <td>0</td>\n",
       "    </tr>\n",
       "    <tr>\n",
       "      <th>1</th>\n",
       "      <td>0</td>\n",
       "      <td>1</td>\n",
       "      <td>0</td>\n",
       "    </tr>\n",
       "    <tr>\n",
       "      <th>2</th>\n",
       "      <td>0</td>\n",
       "      <td>1</td>\n",
       "      <td>0</td>\n",
       "    </tr>\n",
       "    <tr>\n",
       "      <th>3</th>\n",
       "      <td>0</td>\n",
       "      <td>0</td>\n",
       "      <td>1</td>\n",
       "    </tr>\n",
       "    <tr>\n",
       "      <th>4</th>\n",
       "      <td>0</td>\n",
       "      <td>1</td>\n",
       "      <td>0</td>\n",
       "    </tr>\n",
       "    <tr>\n",
       "      <th>...</th>\n",
       "      <td>...</td>\n",
       "      <td>...</td>\n",
       "      <td>...</td>\n",
       "    </tr>\n",
       "    <tr>\n",
       "      <th>1490</th>\n",
       "      <td>0</td>\n",
       "      <td>0</td>\n",
       "      <td>1</td>\n",
       "    </tr>\n",
       "    <tr>\n",
       "      <th>1491</th>\n",
       "      <td>0</td>\n",
       "      <td>1</td>\n",
       "      <td>0</td>\n",
       "    </tr>\n",
       "    <tr>\n",
       "      <th>1492</th>\n",
       "      <td>0</td>\n",
       "      <td>0</td>\n",
       "      <td>1</td>\n",
       "    </tr>\n",
       "    <tr>\n",
       "      <th>1493</th>\n",
       "      <td>0</td>\n",
       "      <td>0</td>\n",
       "      <td>1</td>\n",
       "    </tr>\n",
       "    <tr>\n",
       "      <th>1494</th>\n",
       "      <td>0</td>\n",
       "      <td>1</td>\n",
       "      <td>0</td>\n",
       "    </tr>\n",
       "  </tbody>\n",
       "</table>\n",
       "<p>1495 rows × 3 columns</p>\n",
       "</div>"
      ],
      "text/plain": [
       "      Debt Funding  Private Equity  Seed Funding\n",
       "0                0               1             0\n",
       "1                0               1             0\n",
       "2                0               1             0\n",
       "3                0               0             1\n",
       "4                0               1             0\n",
       "...            ...             ...           ...\n",
       "1490             0               0             1\n",
       "1491             0               1             0\n",
       "1492             0               0             1\n",
       "1493             0               0             1\n",
       "1494             0               1             0\n",
       "\n",
       "[1495 rows x 3 columns]"
      ]
     },
     "execution_count": 483,
     "metadata": {},
     "output_type": "execute_result"
    }
   ],
   "source": [
    "investment"
   ]
  },
  {
   "cell_type": "markdown",
   "metadata": {},
   "source": [
    "# Create duummies for \"City Location\" and save it as 'city'"
   ]
  },
  {
   "cell_type": "code",
   "execution_count": 484,
   "metadata": {},
   "outputs": [],
   "source": [
    "city = pd.get_dummies(df[\"City  Location\"])"
   ]
  },
  {
   "cell_type": "code",
   "execution_count": 485,
   "metadata": {},
   "outputs": [
    {
     "data": {
      "text/html": [
       "<div>\n",
       "<style scoped>\n",
       "    .dataframe tbody tr th:only-of-type {\n",
       "        vertical-align: middle;\n",
       "    }\n",
       "\n",
       "    .dataframe tbody tr th {\n",
       "        vertical-align: top;\n",
       "    }\n",
       "\n",
       "    .dataframe thead th {\n",
       "        text-align: right;\n",
       "    }\n",
       "</style>\n",
       "<table border=\"1\" class=\"dataframe\">\n",
       "  <thead>\n",
       "    <tr style=\"text-align: right;\">\n",
       "      <th></th>\n",
       "      <th>Ahmedabad</th>\n",
       "      <th>Bangalore</th>\n",
       "      <th>Chennai</th>\n",
       "      <th>Delhi NCR</th>\n",
       "      <th>Hyderabad</th>\n",
       "      <th>Mumbai</th>\n",
       "      <th>Pune</th>\n",
       "    </tr>\n",
       "  </thead>\n",
       "  <tbody>\n",
       "    <tr>\n",
       "      <th>0</th>\n",
       "      <td>0</td>\n",
       "      <td>1</td>\n",
       "      <td>0</td>\n",
       "      <td>0</td>\n",
       "      <td>0</td>\n",
       "      <td>0</td>\n",
       "      <td>0</td>\n",
       "    </tr>\n",
       "    <tr>\n",
       "      <th>1</th>\n",
       "      <td>0</td>\n",
       "      <td>0</td>\n",
       "      <td>0</td>\n",
       "      <td>0</td>\n",
       "      <td>0</td>\n",
       "      <td>1</td>\n",
       "      <td>0</td>\n",
       "    </tr>\n",
       "    <tr>\n",
       "      <th>2</th>\n",
       "      <td>0</td>\n",
       "      <td>0</td>\n",
       "      <td>0</td>\n",
       "      <td>1</td>\n",
       "      <td>0</td>\n",
       "      <td>0</td>\n",
       "      <td>0</td>\n",
       "    </tr>\n",
       "    <tr>\n",
       "      <th>3</th>\n",
       "      <td>0</td>\n",
       "      <td>0</td>\n",
       "      <td>0</td>\n",
       "      <td>1</td>\n",
       "      <td>0</td>\n",
       "      <td>0</td>\n",
       "      <td>0</td>\n",
       "    </tr>\n",
       "    <tr>\n",
       "      <th>4</th>\n",
       "      <td>0</td>\n",
       "      <td>0</td>\n",
       "      <td>0</td>\n",
       "      <td>0</td>\n",
       "      <td>0</td>\n",
       "      <td>1</td>\n",
       "      <td>0</td>\n",
       "    </tr>\n",
       "    <tr>\n",
       "      <th>...</th>\n",
       "      <td>...</td>\n",
       "      <td>...</td>\n",
       "      <td>...</td>\n",
       "      <td>...</td>\n",
       "      <td>...</td>\n",
       "      <td>...</td>\n",
       "      <td>...</td>\n",
       "    </tr>\n",
       "    <tr>\n",
       "      <th>1490</th>\n",
       "      <td>0</td>\n",
       "      <td>0</td>\n",
       "      <td>0</td>\n",
       "      <td>1</td>\n",
       "      <td>0</td>\n",
       "      <td>0</td>\n",
       "      <td>0</td>\n",
       "    </tr>\n",
       "    <tr>\n",
       "      <th>1491</th>\n",
       "      <td>0</td>\n",
       "      <td>1</td>\n",
       "      <td>0</td>\n",
       "      <td>0</td>\n",
       "      <td>0</td>\n",
       "      <td>0</td>\n",
       "      <td>0</td>\n",
       "    </tr>\n",
       "    <tr>\n",
       "      <th>1492</th>\n",
       "      <td>0</td>\n",
       "      <td>1</td>\n",
       "      <td>0</td>\n",
       "      <td>0</td>\n",
       "      <td>0</td>\n",
       "      <td>0</td>\n",
       "      <td>0</td>\n",
       "    </tr>\n",
       "    <tr>\n",
       "      <th>1493</th>\n",
       "      <td>0</td>\n",
       "      <td>0</td>\n",
       "      <td>1</td>\n",
       "      <td>0</td>\n",
       "      <td>0</td>\n",
       "      <td>0</td>\n",
       "      <td>0</td>\n",
       "    </tr>\n",
       "    <tr>\n",
       "      <th>1494</th>\n",
       "      <td>0</td>\n",
       "      <td>0</td>\n",
       "      <td>0</td>\n",
       "      <td>1</td>\n",
       "      <td>0</td>\n",
       "      <td>0</td>\n",
       "      <td>0</td>\n",
       "    </tr>\n",
       "  </tbody>\n",
       "</table>\n",
       "<p>1495 rows × 7 columns</p>\n",
       "</div>"
      ],
      "text/plain": [
       "      Ahmedabad  Bangalore  Chennai  Delhi NCR  Hyderabad  Mumbai  Pune\n",
       "0             0          1        0          0          0       0     0\n",
       "1             0          0        0          0          0       1     0\n",
       "2             0          0        0          1          0       0     0\n",
       "3             0          0        0          1          0       0     0\n",
       "4             0          0        0          0          0       1     0\n",
       "...         ...        ...      ...        ...        ...     ...   ...\n",
       "1490          0          0        0          1          0       0     0\n",
       "1491          0          1        0          0          0       0     0\n",
       "1492          0          1        0          0          0       0     0\n",
       "1493          0          0        1          0          0       0     0\n",
       "1494          0          0        0          1          0       0     0\n",
       "\n",
       "[1495 rows x 7 columns]"
      ]
     },
     "execution_count": 485,
     "metadata": {},
     "output_type": "execute_result"
    }
   ],
   "source": [
    "city"
   ]
  },
  {
   "cell_type": "markdown",
   "metadata": {},
   "source": [
    "# Drop columns [\"Startup Name\", \"Industry Vertical\",\"Investors Name\", \"InvestmentnType\", \"City Location\"] from \"df\""
   ]
  },
  {
   "cell_type": "code",
   "execution_count": 486,
   "metadata": {},
   "outputs": [],
   "source": [
    "df = df.drop(columns=[\"Startup Name\", \"Industry Vertical\",\"Investors Name\", \"InvestmentnType\",\"City  Location\"],axis=1)"
   ]
  },
  {
   "cell_type": "code",
   "execution_count": 487,
   "metadata": {},
   "outputs": [
    {
     "data": {
      "text/html": [
       "<div>\n",
       "<style scoped>\n",
       "    .dataframe tbody tr th:only-of-type {\n",
       "        vertical-align: middle;\n",
       "    }\n",
       "\n",
       "    .dataframe tbody tr th {\n",
       "        vertical-align: top;\n",
       "    }\n",
       "\n",
       "    .dataframe thead th {\n",
       "        text-align: right;\n",
       "    }\n",
       "</style>\n",
       "<table border=\"1\" class=\"dataframe\">\n",
       "  <thead>\n",
       "    <tr style=\"text-align: right;\">\n",
       "      <th></th>\n",
       "      <th>Amount in USD</th>\n",
       "    </tr>\n",
       "  </thead>\n",
       "  <tbody>\n",
       "    <tr>\n",
       "      <th>0</th>\n",
       "      <td>12300000</td>\n",
       "    </tr>\n",
       "    <tr>\n",
       "      <th>1</th>\n",
       "      <td>23000000</td>\n",
       "    </tr>\n",
       "    <tr>\n",
       "      <th>2</th>\n",
       "      <td>1000000</td>\n",
       "    </tr>\n",
       "    <tr>\n",
       "      <th>3</th>\n",
       "      <td>500000</td>\n",
       "    </tr>\n",
       "    <tr>\n",
       "      <th>4</th>\n",
       "      <td>60000000</td>\n",
       "    </tr>\n",
       "    <tr>\n",
       "      <th>...</th>\n",
       "      <td>...</td>\n",
       "    </tr>\n",
       "    <tr>\n",
       "      <th>1490</th>\n",
       "      <td>1000000</td>\n",
       "    </tr>\n",
       "    <tr>\n",
       "      <th>1491</th>\n",
       "      <td>3500000</td>\n",
       "    </tr>\n",
       "    <tr>\n",
       "      <th>1492</th>\n",
       "      <td>400000</td>\n",
       "    </tr>\n",
       "    <tr>\n",
       "      <th>1493</th>\n",
       "      <td>500000</td>\n",
       "    </tr>\n",
       "    <tr>\n",
       "      <th>1494</th>\n",
       "      <td>8000000</td>\n",
       "    </tr>\n",
       "  </tbody>\n",
       "</table>\n",
       "<p>1495 rows × 1 columns</p>\n",
       "</div>"
      ],
      "text/plain": [
       "      Amount in USD\n",
       "0          12300000\n",
       "1          23000000\n",
       "2           1000000\n",
       "3            500000\n",
       "4          60000000\n",
       "...             ...\n",
       "1490        1000000\n",
       "1491        3500000\n",
       "1492         400000\n",
       "1493         500000\n",
       "1494        8000000\n",
       "\n",
       "[1495 rows x 1 columns]"
      ]
     },
     "execution_count": 487,
     "metadata": {},
     "output_type": "execute_result"
    }
   ],
   "source": [
    "df"
   ]
  },
  {
   "cell_type": "markdown",
   "metadata": {},
   "source": [
    "# Concatenate \"df\" to 'investment' and 'city'"
   ]
  },
  {
   "cell_type": "code",
   "execution_count": 488,
   "metadata": {},
   "outputs": [],
   "source": [
    "frame = [investment,city]"
   ]
  },
  {
   "cell_type": "code",
   "execution_count": 489,
   "metadata": {},
   "outputs": [],
   "source": [
    "new_df = df.join(frame)"
   ]
  },
  {
   "cell_type": "code",
   "execution_count": 490,
   "metadata": {},
   "outputs": [
    {
     "data": {
      "text/html": [
       "<div>\n",
       "<style scoped>\n",
       "    .dataframe tbody tr th:only-of-type {\n",
       "        vertical-align: middle;\n",
       "    }\n",
       "\n",
       "    .dataframe tbody tr th {\n",
       "        vertical-align: top;\n",
       "    }\n",
       "\n",
       "    .dataframe thead th {\n",
       "        text-align: right;\n",
       "    }\n",
       "</style>\n",
       "<table border=\"1\" class=\"dataframe\">\n",
       "  <thead>\n",
       "    <tr style=\"text-align: right;\">\n",
       "      <th></th>\n",
       "      <th>Amount in USD</th>\n",
       "      <th>Debt Funding</th>\n",
       "      <th>Private Equity</th>\n",
       "      <th>Seed Funding</th>\n",
       "      <th>Ahmedabad</th>\n",
       "      <th>Bangalore</th>\n",
       "      <th>Chennai</th>\n",
       "      <th>Delhi NCR</th>\n",
       "      <th>Hyderabad</th>\n",
       "      <th>Mumbai</th>\n",
       "      <th>Pune</th>\n",
       "    </tr>\n",
       "  </thead>\n",
       "  <tbody>\n",
       "    <tr>\n",
       "      <th>0</th>\n",
       "      <td>12300000</td>\n",
       "      <td>0</td>\n",
       "      <td>1</td>\n",
       "      <td>0</td>\n",
       "      <td>0</td>\n",
       "      <td>1</td>\n",
       "      <td>0</td>\n",
       "      <td>0</td>\n",
       "      <td>0</td>\n",
       "      <td>0</td>\n",
       "      <td>0</td>\n",
       "    </tr>\n",
       "    <tr>\n",
       "      <th>1</th>\n",
       "      <td>23000000</td>\n",
       "      <td>0</td>\n",
       "      <td>1</td>\n",
       "      <td>0</td>\n",
       "      <td>0</td>\n",
       "      <td>0</td>\n",
       "      <td>0</td>\n",
       "      <td>0</td>\n",
       "      <td>0</td>\n",
       "      <td>1</td>\n",
       "      <td>0</td>\n",
       "    </tr>\n",
       "    <tr>\n",
       "      <th>2</th>\n",
       "      <td>1000000</td>\n",
       "      <td>0</td>\n",
       "      <td>1</td>\n",
       "      <td>0</td>\n",
       "      <td>0</td>\n",
       "      <td>0</td>\n",
       "      <td>0</td>\n",
       "      <td>1</td>\n",
       "      <td>0</td>\n",
       "      <td>0</td>\n",
       "      <td>0</td>\n",
       "    </tr>\n",
       "    <tr>\n",
       "      <th>3</th>\n",
       "      <td>500000</td>\n",
       "      <td>0</td>\n",
       "      <td>0</td>\n",
       "      <td>1</td>\n",
       "      <td>0</td>\n",
       "      <td>0</td>\n",
       "      <td>0</td>\n",
       "      <td>1</td>\n",
       "      <td>0</td>\n",
       "      <td>0</td>\n",
       "      <td>0</td>\n",
       "    </tr>\n",
       "    <tr>\n",
       "      <th>4</th>\n",
       "      <td>60000000</td>\n",
       "      <td>0</td>\n",
       "      <td>1</td>\n",
       "      <td>0</td>\n",
       "      <td>0</td>\n",
       "      <td>0</td>\n",
       "      <td>0</td>\n",
       "      <td>0</td>\n",
       "      <td>0</td>\n",
       "      <td>1</td>\n",
       "      <td>0</td>\n",
       "    </tr>\n",
       "    <tr>\n",
       "      <th>...</th>\n",
       "      <td>...</td>\n",
       "      <td>...</td>\n",
       "      <td>...</td>\n",
       "      <td>...</td>\n",
       "      <td>...</td>\n",
       "      <td>...</td>\n",
       "      <td>...</td>\n",
       "      <td>...</td>\n",
       "      <td>...</td>\n",
       "      <td>...</td>\n",
       "      <td>...</td>\n",
       "    </tr>\n",
       "    <tr>\n",
       "      <th>1490</th>\n",
       "      <td>1000000</td>\n",
       "      <td>0</td>\n",
       "      <td>0</td>\n",
       "      <td>1</td>\n",
       "      <td>0</td>\n",
       "      <td>0</td>\n",
       "      <td>0</td>\n",
       "      <td>1</td>\n",
       "      <td>0</td>\n",
       "      <td>0</td>\n",
       "      <td>0</td>\n",
       "    </tr>\n",
       "    <tr>\n",
       "      <th>1491</th>\n",
       "      <td>3500000</td>\n",
       "      <td>0</td>\n",
       "      <td>1</td>\n",
       "      <td>0</td>\n",
       "      <td>0</td>\n",
       "      <td>1</td>\n",
       "      <td>0</td>\n",
       "      <td>0</td>\n",
       "      <td>0</td>\n",
       "      <td>0</td>\n",
       "      <td>0</td>\n",
       "    </tr>\n",
       "    <tr>\n",
       "      <th>1492</th>\n",
       "      <td>400000</td>\n",
       "      <td>0</td>\n",
       "      <td>0</td>\n",
       "      <td>1</td>\n",
       "      <td>0</td>\n",
       "      <td>1</td>\n",
       "      <td>0</td>\n",
       "      <td>0</td>\n",
       "      <td>0</td>\n",
       "      <td>0</td>\n",
       "      <td>0</td>\n",
       "    </tr>\n",
       "    <tr>\n",
       "      <th>1493</th>\n",
       "      <td>500000</td>\n",
       "      <td>0</td>\n",
       "      <td>0</td>\n",
       "      <td>1</td>\n",
       "      <td>0</td>\n",
       "      <td>0</td>\n",
       "      <td>1</td>\n",
       "      <td>0</td>\n",
       "      <td>0</td>\n",
       "      <td>0</td>\n",
       "      <td>0</td>\n",
       "    </tr>\n",
       "    <tr>\n",
       "      <th>1494</th>\n",
       "      <td>8000000</td>\n",
       "      <td>0</td>\n",
       "      <td>1</td>\n",
       "      <td>0</td>\n",
       "      <td>0</td>\n",
       "      <td>0</td>\n",
       "      <td>0</td>\n",
       "      <td>1</td>\n",
       "      <td>0</td>\n",
       "      <td>0</td>\n",
       "      <td>0</td>\n",
       "    </tr>\n",
       "  </tbody>\n",
       "</table>\n",
       "<p>1495 rows × 11 columns</p>\n",
       "</div>"
      ],
      "text/plain": [
       "      Amount in USD  Debt Funding  Private Equity  Seed Funding  Ahmedabad  \\\n",
       "0          12300000             0               1             0          0   \n",
       "1          23000000             0               1             0          0   \n",
       "2           1000000             0               1             0          0   \n",
       "3            500000             0               0             1          0   \n",
       "4          60000000             0               1             0          0   \n",
       "...             ...           ...             ...           ...        ...   \n",
       "1490        1000000             0               0             1          0   \n",
       "1491        3500000             0               1             0          0   \n",
       "1492         400000             0               0             1          0   \n",
       "1493         500000             0               0             1          0   \n",
       "1494        8000000             0               1             0          0   \n",
       "\n",
       "      Bangalore  Chennai  Delhi NCR  Hyderabad  Mumbai  Pune  \n",
       "0             1        0          0          0       0     0  \n",
       "1             0        0          0          0       1     0  \n",
       "2             0        0          1          0       0     0  \n",
       "3             0        0          1          0       0     0  \n",
       "4             0        0          0          0       1     0  \n",
       "...         ...      ...        ...        ...     ...   ...  \n",
       "1490          0        0          1          0       0     0  \n",
       "1491          1        0          0          0       0     0  \n",
       "1492          1        0          0          0       0     0  \n",
       "1493          0        1          0          0       0     0  \n",
       "1494          0        0          1          0       0     0  \n",
       "\n",
       "[1495 rows x 11 columns]"
      ]
     },
     "execution_count": 490,
     "metadata": {},
     "output_type": "execute_result"
    }
   ],
   "source": [
    "new_df"
   ]
  },
  {
   "cell_type": "code",
   "execution_count": 491,
   "metadata": {},
   "outputs": [
    {
     "data": {
      "text/plain": [
       "Amount in USD     0\n",
       "Debt Funding      0\n",
       "Private Equity    0\n",
       "Seed Funding      0\n",
       "Ahmedabad         0\n",
       "Bangalore         0\n",
       "Chennai           0\n",
       "Delhi NCR         0\n",
       "Hyderabad         0\n",
       "Mumbai            0\n",
       "Pune              0\n",
       "dtype: int64"
      ]
     },
     "execution_count": 491,
     "metadata": {},
     "output_type": "execute_result"
    }
   ],
   "source": [
    "new_df.isnull().sum()"
   ]
  },
  {
   "cell_type": "code",
   "execution_count": 492,
   "metadata": {},
   "outputs": [
    {
     "data": {
      "text/html": [
       "<div>\n",
       "<style scoped>\n",
       "    .dataframe tbody tr th:only-of-type {\n",
       "        vertical-align: middle;\n",
       "    }\n",
       "\n",
       "    .dataframe tbody tr th {\n",
       "        vertical-align: top;\n",
       "    }\n",
       "\n",
       "    .dataframe thead th {\n",
       "        text-align: right;\n",
       "    }\n",
       "</style>\n",
       "<table border=\"1\" class=\"dataframe\">\n",
       "  <thead>\n",
       "    <tr style=\"text-align: right;\">\n",
       "      <th></th>\n",
       "      <th>Amount in USD</th>\n",
       "      <th>Debt Funding</th>\n",
       "      <th>Private Equity</th>\n",
       "      <th>Seed Funding</th>\n",
       "      <th>Ahmedabad</th>\n",
       "      <th>Bangalore</th>\n",
       "      <th>Chennai</th>\n",
       "      <th>Delhi NCR</th>\n",
       "      <th>Hyderabad</th>\n",
       "      <th>Mumbai</th>\n",
       "      <th>Pune</th>\n",
       "    </tr>\n",
       "  </thead>\n",
       "  <tbody>\n",
       "    <tr>\n",
       "      <th>count</th>\n",
       "      <td>1.495000e+03</td>\n",
       "      <td>1495.000000</td>\n",
       "      <td>1495.000000</td>\n",
       "      <td>1495.000000</td>\n",
       "      <td>1495.000000</td>\n",
       "      <td>1495.000000</td>\n",
       "      <td>1495.000000</td>\n",
       "      <td>1495.000000</td>\n",
       "      <td>1495.000000</td>\n",
       "      <td>1495.000000</td>\n",
       "      <td>1495.000000</td>\n",
       "    </tr>\n",
       "    <tr>\n",
       "      <th>mean</th>\n",
       "      <td>1.426279e+07</td>\n",
       "      <td>0.006689</td>\n",
       "      <td>0.560535</td>\n",
       "      <td>0.432776</td>\n",
       "      <td>0.017391</td>\n",
       "      <td>0.313043</td>\n",
       "      <td>0.044147</td>\n",
       "      <td>0.318395</td>\n",
       "      <td>0.041472</td>\n",
       "      <td>0.224749</td>\n",
       "      <td>0.040803</td>\n",
       "    </tr>\n",
       "    <tr>\n",
       "      <th>std</th>\n",
       "      <td>9.173061e+07</td>\n",
       "      <td>0.081539</td>\n",
       "      <td>0.496488</td>\n",
       "      <td>0.495626</td>\n",
       "      <td>0.130768</td>\n",
       "      <td>0.463887</td>\n",
       "      <td>0.205491</td>\n",
       "      <td>0.466009</td>\n",
       "      <td>0.199445</td>\n",
       "      <td>0.417557</td>\n",
       "      <td>0.197899</td>\n",
       "    </tr>\n",
       "    <tr>\n",
       "      <th>min</th>\n",
       "      <td>1.800000e+04</td>\n",
       "      <td>0.000000</td>\n",
       "      <td>0.000000</td>\n",
       "      <td>0.000000</td>\n",
       "      <td>0.000000</td>\n",
       "      <td>0.000000</td>\n",
       "      <td>0.000000</td>\n",
       "      <td>0.000000</td>\n",
       "      <td>0.000000</td>\n",
       "      <td>0.000000</td>\n",
       "      <td>0.000000</td>\n",
       "    </tr>\n",
       "    <tr>\n",
       "      <th>25%</th>\n",
       "      <td>4.325000e+05</td>\n",
       "      <td>0.000000</td>\n",
       "      <td>0.000000</td>\n",
       "      <td>0.000000</td>\n",
       "      <td>0.000000</td>\n",
       "      <td>0.000000</td>\n",
       "      <td>0.000000</td>\n",
       "      <td>0.000000</td>\n",
       "      <td>0.000000</td>\n",
       "      <td>0.000000</td>\n",
       "      <td>0.000000</td>\n",
       "    </tr>\n",
       "    <tr>\n",
       "      <th>50%</th>\n",
       "      <td>1.200000e+06</td>\n",
       "      <td>0.000000</td>\n",
       "      <td>1.000000</td>\n",
       "      <td>0.000000</td>\n",
       "      <td>0.000000</td>\n",
       "      <td>0.000000</td>\n",
       "      <td>0.000000</td>\n",
       "      <td>0.000000</td>\n",
       "      <td>0.000000</td>\n",
       "      <td>0.000000</td>\n",
       "      <td>0.000000</td>\n",
       "    </tr>\n",
       "    <tr>\n",
       "      <th>75%</th>\n",
       "      <td>6.000000e+06</td>\n",
       "      <td>0.000000</td>\n",
       "      <td>1.000000</td>\n",
       "      <td>1.000000</td>\n",
       "      <td>0.000000</td>\n",
       "      <td>1.000000</td>\n",
       "      <td>0.000000</td>\n",
       "      <td>1.000000</td>\n",
       "      <td>0.000000</td>\n",
       "      <td>0.000000</td>\n",
       "      <td>0.000000</td>\n",
       "    </tr>\n",
       "    <tr>\n",
       "      <th>max</th>\n",
       "      <td>2.500000e+09</td>\n",
       "      <td>1.000000</td>\n",
       "      <td>1.000000</td>\n",
       "      <td>1.000000</td>\n",
       "      <td>1.000000</td>\n",
       "      <td>1.000000</td>\n",
       "      <td>1.000000</td>\n",
       "      <td>1.000000</td>\n",
       "      <td>1.000000</td>\n",
       "      <td>1.000000</td>\n",
       "      <td>1.000000</td>\n",
       "    </tr>\n",
       "  </tbody>\n",
       "</table>\n",
       "</div>"
      ],
      "text/plain": [
       "       Amount in USD  Debt Funding  Private Equity  Seed Funding    Ahmedabad  \\\n",
       "count   1.495000e+03   1495.000000     1495.000000   1495.000000  1495.000000   \n",
       "mean    1.426279e+07      0.006689        0.560535      0.432776     0.017391   \n",
       "std     9.173061e+07      0.081539        0.496488      0.495626     0.130768   \n",
       "min     1.800000e+04      0.000000        0.000000      0.000000     0.000000   \n",
       "25%     4.325000e+05      0.000000        0.000000      0.000000     0.000000   \n",
       "50%     1.200000e+06      0.000000        1.000000      0.000000     0.000000   \n",
       "75%     6.000000e+06      0.000000        1.000000      1.000000     0.000000   \n",
       "max     2.500000e+09      1.000000        1.000000      1.000000     1.000000   \n",
       "\n",
       "         Bangalore      Chennai    Delhi NCR    Hyderabad       Mumbai  \\\n",
       "count  1495.000000  1495.000000  1495.000000  1495.000000  1495.000000   \n",
       "mean      0.313043     0.044147     0.318395     0.041472     0.224749   \n",
       "std       0.463887     0.205491     0.466009     0.199445     0.417557   \n",
       "min       0.000000     0.000000     0.000000     0.000000     0.000000   \n",
       "25%       0.000000     0.000000     0.000000     0.000000     0.000000   \n",
       "50%       0.000000     0.000000     0.000000     0.000000     0.000000   \n",
       "75%       1.000000     0.000000     1.000000     0.000000     0.000000   \n",
       "max       1.000000     1.000000     1.000000     1.000000     1.000000   \n",
       "\n",
       "              Pune  \n",
       "count  1495.000000  \n",
       "mean      0.040803  \n",
       "std       0.197899  \n",
       "min       0.000000  \n",
       "25%       0.000000  \n",
       "50%       0.000000  \n",
       "75%       0.000000  \n",
       "max       1.000000  "
      ]
     },
     "execution_count": 492,
     "metadata": {},
     "output_type": "execute_result"
    }
   ],
   "source": [
    "new_df.describe()"
   ]
  },
  {
   "cell_type": "code",
   "execution_count": 493,
   "metadata": {},
   "outputs": [],
   "source": [
    "x = new_df.drop(columns=['Amount in USD'],axis=1)\n",
    "y = new_df[\"Amount in USD\"]"
   ]
  },
  {
   "cell_type": "code",
   "execution_count": 494,
   "metadata": {},
   "outputs": [],
   "source": [
    "train_x,train_y,test_x,test_y =train_test_split(x,y,test_size=0.23,random_state=40)"
   ]
  },
  {
   "cell_type": "code",
   "execution_count": 495,
   "metadata": {},
   "outputs": [
    {
     "data": {
      "text/html": [
       "<div>\n",
       "<style scoped>\n",
       "    .dataframe tbody tr th:only-of-type {\n",
       "        vertical-align: middle;\n",
       "    }\n",
       "\n",
       "    .dataframe tbody tr th {\n",
       "        vertical-align: top;\n",
       "    }\n",
       "\n",
       "    .dataframe thead th {\n",
       "        text-align: right;\n",
       "    }\n",
       "</style>\n",
       "<table border=\"1\" class=\"dataframe\">\n",
       "  <thead>\n",
       "    <tr style=\"text-align: right;\">\n",
       "      <th></th>\n",
       "      <th>Debt Funding</th>\n",
       "      <th>Private Equity</th>\n",
       "      <th>Seed Funding</th>\n",
       "      <th>Ahmedabad</th>\n",
       "      <th>Bangalore</th>\n",
       "      <th>Chennai</th>\n",
       "      <th>Delhi NCR</th>\n",
       "      <th>Hyderabad</th>\n",
       "      <th>Mumbai</th>\n",
       "      <th>Pune</th>\n",
       "    </tr>\n",
       "  </thead>\n",
       "  <tbody>\n",
       "    <tr>\n",
       "      <th>0</th>\n",
       "      <td>0</td>\n",
       "      <td>1</td>\n",
       "      <td>0</td>\n",
       "      <td>0</td>\n",
       "      <td>1</td>\n",
       "      <td>0</td>\n",
       "      <td>0</td>\n",
       "      <td>0</td>\n",
       "      <td>0</td>\n",
       "      <td>0</td>\n",
       "    </tr>\n",
       "    <tr>\n",
       "      <th>1</th>\n",
       "      <td>0</td>\n",
       "      <td>1</td>\n",
       "      <td>0</td>\n",
       "      <td>0</td>\n",
       "      <td>0</td>\n",
       "      <td>0</td>\n",
       "      <td>0</td>\n",
       "      <td>0</td>\n",
       "      <td>1</td>\n",
       "      <td>0</td>\n",
       "    </tr>\n",
       "    <tr>\n",
       "      <th>2</th>\n",
       "      <td>0</td>\n",
       "      <td>1</td>\n",
       "      <td>0</td>\n",
       "      <td>0</td>\n",
       "      <td>0</td>\n",
       "      <td>0</td>\n",
       "      <td>1</td>\n",
       "      <td>0</td>\n",
       "      <td>0</td>\n",
       "      <td>0</td>\n",
       "    </tr>\n",
       "    <tr>\n",
       "      <th>3</th>\n",
       "      <td>0</td>\n",
       "      <td>0</td>\n",
       "      <td>1</td>\n",
       "      <td>0</td>\n",
       "      <td>0</td>\n",
       "      <td>0</td>\n",
       "      <td>1</td>\n",
       "      <td>0</td>\n",
       "      <td>0</td>\n",
       "      <td>0</td>\n",
       "    </tr>\n",
       "    <tr>\n",
       "      <th>4</th>\n",
       "      <td>0</td>\n",
       "      <td>1</td>\n",
       "      <td>0</td>\n",
       "      <td>0</td>\n",
       "      <td>0</td>\n",
       "      <td>0</td>\n",
       "      <td>0</td>\n",
       "      <td>0</td>\n",
       "      <td>1</td>\n",
       "      <td>0</td>\n",
       "    </tr>\n",
       "    <tr>\n",
       "      <th>...</th>\n",
       "      <td>...</td>\n",
       "      <td>...</td>\n",
       "      <td>...</td>\n",
       "      <td>...</td>\n",
       "      <td>...</td>\n",
       "      <td>...</td>\n",
       "      <td>...</td>\n",
       "      <td>...</td>\n",
       "      <td>...</td>\n",
       "      <td>...</td>\n",
       "    </tr>\n",
       "    <tr>\n",
       "      <th>1490</th>\n",
       "      <td>0</td>\n",
       "      <td>0</td>\n",
       "      <td>1</td>\n",
       "      <td>0</td>\n",
       "      <td>0</td>\n",
       "      <td>0</td>\n",
       "      <td>1</td>\n",
       "      <td>0</td>\n",
       "      <td>0</td>\n",
       "      <td>0</td>\n",
       "    </tr>\n",
       "    <tr>\n",
       "      <th>1491</th>\n",
       "      <td>0</td>\n",
       "      <td>1</td>\n",
       "      <td>0</td>\n",
       "      <td>0</td>\n",
       "      <td>1</td>\n",
       "      <td>0</td>\n",
       "      <td>0</td>\n",
       "      <td>0</td>\n",
       "      <td>0</td>\n",
       "      <td>0</td>\n",
       "    </tr>\n",
       "    <tr>\n",
       "      <th>1492</th>\n",
       "      <td>0</td>\n",
       "      <td>0</td>\n",
       "      <td>1</td>\n",
       "      <td>0</td>\n",
       "      <td>1</td>\n",
       "      <td>0</td>\n",
       "      <td>0</td>\n",
       "      <td>0</td>\n",
       "      <td>0</td>\n",
       "      <td>0</td>\n",
       "    </tr>\n",
       "    <tr>\n",
       "      <th>1493</th>\n",
       "      <td>0</td>\n",
       "      <td>0</td>\n",
       "      <td>1</td>\n",
       "      <td>0</td>\n",
       "      <td>0</td>\n",
       "      <td>1</td>\n",
       "      <td>0</td>\n",
       "      <td>0</td>\n",
       "      <td>0</td>\n",
       "      <td>0</td>\n",
       "    </tr>\n",
       "    <tr>\n",
       "      <th>1494</th>\n",
       "      <td>0</td>\n",
       "      <td>1</td>\n",
       "      <td>0</td>\n",
       "      <td>0</td>\n",
       "      <td>0</td>\n",
       "      <td>0</td>\n",
       "      <td>1</td>\n",
       "      <td>0</td>\n",
       "      <td>0</td>\n",
       "      <td>0</td>\n",
       "    </tr>\n",
       "  </tbody>\n",
       "</table>\n",
       "<p>1495 rows × 10 columns</p>\n",
       "</div>"
      ],
      "text/plain": [
       "      Debt Funding  Private Equity  Seed Funding  Ahmedabad  Bangalore  \\\n",
       "0                0               1             0          0          1   \n",
       "1                0               1             0          0          0   \n",
       "2                0               1             0          0          0   \n",
       "3                0               0             1          0          0   \n",
       "4                0               1             0          0          0   \n",
       "...            ...             ...           ...        ...        ...   \n",
       "1490             0               0             1          0          0   \n",
       "1491             0               1             0          0          1   \n",
       "1492             0               0             1          0          1   \n",
       "1493             0               0             1          0          0   \n",
       "1494             0               1             0          0          0   \n",
       "\n",
       "      Chennai  Delhi NCR  Hyderabad  Mumbai  Pune  \n",
       "0           0          0          0       0     0  \n",
       "1           0          0          0       1     0  \n",
       "2           0          1          0       0     0  \n",
       "3           0          1          0       0     0  \n",
       "4           0          0          0       1     0  \n",
       "...       ...        ...        ...     ...   ...  \n",
       "1490        0          1          0       0     0  \n",
       "1491        0          0          0       0     0  \n",
       "1492        0          0          0       0     0  \n",
       "1493        1          0          0       0     0  \n",
       "1494        0          1          0       0     0  \n",
       "\n",
       "[1495 rows x 10 columns]"
      ]
     },
     "execution_count": 495,
     "metadata": {},
     "output_type": "execute_result"
    }
   ],
   "source": [
    "x"
   ]
  },
  {
   "cell_type": "code",
   "execution_count": 496,
   "metadata": {},
   "outputs": [
    {
     "data": {
      "text/plain": [
       "0       12300000\n",
       "1       23000000\n",
       "2        1000000\n",
       "3         500000\n",
       "4       60000000\n",
       "          ...   \n",
       "1490     1000000\n",
       "1491     3500000\n",
       "1492      400000\n",
       "1493      500000\n",
       "1494     8000000\n",
       "Name: Amount in USD, Length: 1495, dtype: int64"
      ]
     },
     "execution_count": 496,
     "metadata": {},
     "output_type": "execute_result"
    }
   ],
   "source": [
    "y"
   ]
  },
  {
   "cell_type": "code",
   "execution_count": 497,
   "metadata": {},
   "outputs": [
    {
     "data": {
      "text/plain": [
       "((1495, 10), (1495,))"
      ]
     },
     "execution_count": 497,
     "metadata": {},
     "output_type": "execute_result"
    }
   ],
   "source": [
    "x.shape,y.shape"
   ]
  },
  {
   "cell_type": "code",
   "execution_count": 498,
   "metadata": {},
   "outputs": [],
   "source": [
    "x_train, x_test, y_train, y_test = train_test_split(x, y, test_size = 0.25, random_state = 0)\n",
    "#Creating model and fitting data\n",
    "model = LinearRegression()"
   ]
  },
  {
   "cell_type": "code",
   "execution_count": 499,
   "metadata": {},
   "outputs": [
    {
     "data": {
      "text/plain": [
       "LinearRegression()"
      ]
     },
     "execution_count": 499,
     "metadata": {},
     "output_type": "execute_result"
    }
   ],
   "source": [
    "model.fit(x_train,y_train)"
   ]
  },
  {
   "cell_type": "code",
   "execution_count": 500,
   "metadata": {},
   "outputs": [
    {
     "name": "stdout",
     "output_type": "stream",
     "text": [
      "accuracy score 0.03091462418796187\n",
      "intercept 7798760.3016582765\n",
      "coeeficient [ -1810869.55256378  12288037.15512924 -10477167.60256545\n",
      "  -2624799.99652974  12357275.89073782  -3966220.46613973\n",
      "   2044862.65840533  -1435280.56566899  -2884925.51369102\n",
      "  -3490912.00711366]\n"
     ]
    }
   ],
   "source": [
    "predict_test = model.predict(x_test)\n",
    "\n",
    "print(\"accuracy score\", r2_score(y_test,predict_test))\n",
    "\n",
    "print(\"intercept\",model.intercept_)\n",
    "\n",
    "print(\"coeeficient\",model.coef_)"
   ]
  },
  {
   "cell_type": "code",
   "execution_count": 501,
   "metadata": {},
   "outputs": [
    {
     "name": "stdout",
     "output_type": "stream",
     "text": [
      "accuracy score 0.01971980911066662\n"
     ]
    }
   ],
   "source": [
    "predict_train =model.predict(x_train)\n",
    "\n",
    "print(\"accuracy score\",r2_score(y_train,predict_train))"
   ]
  },
  {
   "cell_type": "markdown",
   "metadata": {},
   "source": [
    "# Draw scatter plot between ytest and predict_test"
   ]
  },
  {
   "cell_type": "code",
   "execution_count": 502,
   "metadata": {},
   "outputs": [
    {
     "data": {
      "text/plain": [
       "Text(0, 0.5, 'predicted y')"
      ]
     },
     "execution_count": 502,
     "metadata": {},
     "output_type": "execute_result"
    },
    {
     "data": {
      "image/png": "[encoded data removed]",
      "text/plain": [
       "<Figure size 432x288 with 1 Axes>"
      ]
     },
     "metadata": {
      "needs_background": "light"
     },
     "output_type": "display_data"
    }
   ],
   "source": [
    "plt.scatter(y_test,predict_test)\n",
    "plt.xlabel(\"actual y\")\n",
    "plt.ylabel(\"predicted y\")"
   ]
  },
  {
   "cell_type": "code",
   "execution_count": 503,
   "metadata": {},
   "outputs": [],
   "source": [
    "from sklearn.metrics import mean_squared_error"
   ]
  },
  {
   "cell_type": "code",
   "execution_count": 504,
   "metadata": {},
   "outputs": [
    {
     "name": "stdout",
     "output_type": "stream",
     "text": [
      "m s e 6525473839762941.0\n"
     ]
    }
   ],
   "source": [
    "print(\"m s e\",mean_squared_error(y_test,predict_test))"
   ]
  },
  {
   "cell_type": "markdown",
   "metadata": {},
   "source": [
    "# KNN regressor model"
   ]
  },
  {
   "cell_type": "code",
   "execution_count": 509,
   "metadata": {},
   "outputs": [],
   "source": [
    "from sklearn.neighbors import KNeighborsRegressor"
   ]
  },
  {
   "cell_type": "code",
   "execution_count": 510,
   "metadata": {},
   "outputs": [],
   "source": [
    "x_train, x_test, y_train, y_test = train_test_split(x, y, test_size = 0.25, random_state =0)"
   ]
  },
  {
   "cell_type": "code",
   "execution_count": 513,
   "metadata": {},
   "outputs": [],
   "source": [
    "model = KNeighborsRegressor(n_neighbors=1)"
   ]
  },
  {
   "cell_type": "code",
   "execution_count": 514,
   "metadata": {},
   "outputs": [
    {
     "data": {
      "text/plain": [
       "KNeighborsRegressor(n_neighbors=1)"
      ]
     },
     "execution_count": 514,
     "metadata": {},
     "output_type": "execute_result"
    }
   ],
   "source": [
    "model.fit(x_train,y_train)"
   ]
  },
  {
   "cell_type": "code",
   "execution_count": 515,
   "metadata": {},
   "outputs": [],
   "source": [
    "predict_test = model.predict(x_test)"
   ]
  },
  {
   "cell_type": "code",
   "execution_count": 518,
   "metadata": {},
   "outputs": [
    {
     "name": "stdout",
     "output_type": "stream",
     "text": [
      "accuracy score -0.07297178058000697\n"
     ]
    }
   ],
   "source": [
    "print(\"accuracy score\",r2_score(y_test,predict_test))"
   ]
  },
  {
   "cell_type": "code",
   "execution_count": 519,
   "metadata": {},
   "outputs": [
    {
     "name": "stdout",
     "output_type": "stream",
     "text": [
      "accuracy score -0.07100749388636274\n"
     ]
    }
   ],
   "source": [
    "predict_train = model.predict(x_train)\n",
    "\n",
    "print(\"accuracy score\",r2_score(y_train,predict_train))"
   ]
  },
  {
   "cell_type": "code",
   "execution_count": 524,
   "metadata": {},
   "outputs": [],
   "source": [
    "#finding k vale\n",
    "\n",
    "k_list = list(range(1,21))\n",
    "\n",
    "score_test = []\n",
    "score_train=[]\n",
    "\n",
    "for i in k_list:\n",
    "    model =KNeighborsRegressor(n_neighbors=i)\n",
    "    model.fit(x_train,y_train)\n",
    "    \n",
    "    predict_test = model.predict(x_test)\n",
    "    \n",
    "    predict_train = model.predict(x_train)\n",
    "    \n",
    "    acc_score_train =r2_score(y_train,predict_train)\n",
    "    \n",
    "    acc_score_test = r2_score(y_test,predict_test)\n",
    "    \n",
    "    score_test.append(acc_score_test)\n",
    "    \n",
    "    score_train.append(acc_score_train)"
   ]
  },
  {
   "cell_type": "code",
   "execution_count": 525,
   "metadata": {},
   "outputs": [
    {
     "data": {
      "text/plain": [
       "([-0.07297178058000697,\n",
       "  -0.016045805015892478,\n",
       "  -0.0010929437677267284,\n",
       "  -0.0015786185473194436,\n",
       "  -0.0008888281998913339,\n",
       "  -0.003190381605840953,\n",
       "  -0.005119471287579946,\n",
       "  -0.0014210863059429535,\n",
       "  -0.003496010390740434,\n",
       "  0.012082625464993613,\n",
       "  0.010343399735675995,\n",
       "  0.013228342166560991,\n",
       "  0.012886834888346965,\n",
       "  0.012186817509341363,\n",
       "  0.010136914642916883,\n",
       "  0.00963649937817912,\n",
       "  0.008621806376184926,\n",
       "  0.00702211661139196,\n",
       "  0.005774764864847737,\n",
       "  0.005102270527609809],\n",
       " [-0.07100749388636274,\n",
       "  -0.02301828226525604,\n",
       "  -0.007592252843998448,\n",
       "  -0.007916502875649822,\n",
       "  -0.005706395599774705,\n",
       "  -0.005902114692100557,\n",
       "  -0.006266438594470403,\n",
       "  -0.0024862734585637813,\n",
       "  -0.0037399196118863554,\n",
       "  0.008161938425948811,\n",
       "  0.007293992098233892,\n",
       "  0.009929601393428578,\n",
       "  0.009006389726559316,\n",
       "  0.00871521746091275,\n",
       "  0.007525458828127496,\n",
       "  0.006512665488329739,\n",
       "  0.006251100343072191,\n",
       "  0.005322719706176371,\n",
       "  0.004582975182060189,\n",
       "  0.003754214007099854])"
      ]
     },
     "execution_count": 525,
     "metadata": {},
     "output_type": "execute_result"
    }
   ],
   "source": [
    "score_test,score_train"
   ]
  },
  {
   "cell_type": "code",
   "execution_count": 529,
   "metadata": {},
   "outputs": [
    {
     "data": {
      "image/png": "[encoded data removed]",
      "text/plain": [
       "<Figure size 432x288 with 1 Axes>"
      ]
     },
     "metadata": {
      "needs_background": "light"
     },
     "output_type": "display_data"
    }
   ],
   "source": [
    "plt.plot(score_test)\n",
    "plt.plot(score_train)\n",
    "plt.show()"
   ]
  },
  {
   "cell_type": "code",
   "execution_count": 534,
   "metadata": {},
   "outputs": [
    {
     "name": "stdout",
     "output_type": "stream",
     "text": [
      "r2_score 0.00702211661139196\n"
     ]
    }
   ],
   "source": [
    "#k=18\n",
    "model = KNeighborsRegressor(n_neighbors=18)\n",
    "model.fit(x_train,y_train)\n",
    "predict_test = model.predict(x_test)\n",
    "\n",
    "print(\"r2_score\",r2_score(y_test,predict_test))"
   ]
  },
  {
   "cell_type": "code",
   "execution_count": null,
   "metadata": {},
   "outputs": [],
   "source": []
  }
 ],
 "metadata": {
  "kernelspec": {
   "display_name": "Python 3",
   "language": "python",
   "name": "python3"
  },
  "language_info": {
   "codemirror_mode": {
    "name": "ipython",
    "version": 3
   },
   "file_extension": ".py",
   "mimetype": "text/x-python",
   "name": "python",
   "nbconvert_exporter": "python",
   "pygments_lexer": "ipython3",
   "version": "3.8.5"
  }
 },
 "nbformat": 4,
 "nbformat_minor": 4
}
